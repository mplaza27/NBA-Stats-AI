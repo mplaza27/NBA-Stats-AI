{
  "nbformat": 4,
  "nbformat_minor": 0,
  "metadata": {
    "colab": {
      "provenance": [],
      "authorship_tag": "ABX9TyMv6MwbTYn6d2Ueh9aecZqM",
      "include_colab_link": true
    },
    "kernelspec": {
      "name": "python3",
      "display_name": "Python 3"
    },
    "language_info": {
      "name": "python"
    }
  },
  "cells": [
    {
      "cell_type": "markdown",
      "metadata": {
        "id": "view-in-github",
        "colab_type": "text"
      },
      "source": [
        "<a href=\"https://colab.research.google.com/github/mplaza27/NBA-Stats-AI/blob/main/NBA_Scrape.ipynb\" target=\"_parent\"><img src=\"https://colab.research.google.com/assets/colab-badge.svg\" alt=\"Open In Colab\"/></a>"
      ]
    },
    {
      "cell_type": "code",
      "source": [
        "!pip install nba_api"
      ],
      "metadata": {
        "id": "auADnHcA_7FV"
      },
      "execution_count": null,
      "outputs": []
    },
    {
      "cell_type": "code",
      "source": [
        "import pandas as pd\n",
        "from nba_api.stats.endpoints import playergamelog\n",
        "from nba_api.stats.library.parameters import SeasonAll\n",
        "from nba_api.stats.static import players\n",
        "from nba_api.stats.static import teams\n",
        "from nba_api.stats.endpoints import leaguegamefinder\n",
        "from nba_api.stats.endpoints import playbyplay\n",
        "import datetime"
      ],
      "metadata": {
        "id": "rYLpFCgc5uot"
      },
      "execution_count": 2,
      "outputs": []
    },
    {
      "cell_type": "code",
      "source": [
        "#getting PlayerIDS from Names\n",
        "\n",
        "def playerSearch(fullName): #wanted it to work with both a name and a list of names (not needed can just iterate whenever to work with list of names)\n",
        "    if isinstance(fullName, list):\n",
        "      player_ids = []\n",
        "      for name in fullName:\n",
        "        player_ids.append([player for player in players.get_players() if player['full_name'] == name][0]['id'])\n",
        "      return player_ids\n",
        "    else:\n",
        "      player_id = [player for player in players.get_players() if player['full_name'] == fullName][0]['id']\n",
        "      return player_id\n",
        "\n",
        "\n",
        "#getting Stats from PlayerIDS\n",
        "def playerStats(playerInfo, crit):\n",
        "  if isinstance(playerInfo, str) and any(char.isalpha() for char in playerInfo):\n",
        "    playerInfo = playerSearch(playerInfo)\n",
        "  if crit == None or crit == datetime.date.today().year:\n",
        "    return(playergamelog.PlayerGameLog(player_id=playerInfo).get_data_frames())\n",
        "  elif crit == 'all':\n",
        "    return(playergamelog.PlayerGameLog(player_id=playerInfo, season = SeasonAll.all).get_data_frames())\n",
        "  return(playergamelog.PlayerGameLog(player_id=playerInfo, season = crit).get_data_frames())\n",
        "\n"
      ],
      "metadata": {
        "id": "5MAL8hF9LNF5"
      },
      "execution_count": 3,
      "outputs": []
    },
    {
      "cell_type": "code",
      "source": [
        "def sepData(l: list):\n",
        "  list2 = l[4::5]  # Get every 5th element\n",
        "  list1 = [i for j, i in enumerate(l) if j % 5 != 4]\n",
        "  return list1, list2"
      ],
      "metadata": {
        "id": "C0ksBEM_c08L"
      },
      "execution_count": 4,
      "outputs": []
    },
    {
      "cell_type": "code",
      "source": [
        "def tutorialTest():\n",
        "    L_J = \"LeBron James\"\n",
        "    D_W = \"Dwyane Wade\" #can be refractored\n",
        "    # Test 1\n",
        "    print(\"Test1\\nPlayerIDS: \", playerSearch([L_J, D_W]))\n",
        "    print(f\"\\n\\nTest2\\n{L_J} Stats:\\n\", playerStats(L_J,None)) #returns this season all season stats by default, look at keys from output for specific data\n",
        "\n",
        "    print(f\"\\n\\nTest3\\n{D_W} Points:\\n\", playerStats(D_W,2005)[0][\"PTS\"]) #start of year (this returns 2005-2006 season) #Years players didnt play return a 0 x 27\n",
        "                                                  #year can be string or integer\n",
        "                                                  #dont know why need to look at [0] index\n",
        "\n",
        "                                                  #two more examples\n",
        "\n",
        "    print(\"\\n\\nTest4\\nPlayer Points:\\n\", playerStats(playerSearch('Stephen Curry'),2017)[0][\"PTS\"])\n",
        "    print(\"\\n\\nTest5\\nPlayer Rebounds:\\n\", playerStats('Chris Bosh',2009)[0][\"REB\"])"
      ],
      "metadata": {
        "id": "Di5B-G0n7SiP"
      },
      "execution_count": 6,
      "outputs": []
    },
    {
      "cell_type": "code",
      "source": [
        "def main():\n",
        "    tutorialTest()\n",
        "    #\n",
        "    #your code here:\n",
        "    #\n",
        "\n",
        "\n",
        "\n",
        "main()"
      ],
      "metadata": {
        "id": "1qDKGvyg6G76"
      },
      "execution_count": null,
      "outputs": []
    }
  ]
}
